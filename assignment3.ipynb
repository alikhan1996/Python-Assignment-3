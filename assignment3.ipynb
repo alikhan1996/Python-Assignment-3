{
 "cells": [
  {
   "cell_type": "code",
   "execution_count": 1,
   "id": "1931f16c",
   "metadata": {},
   "outputs": [
    {
     "name": "stdout",
     "output_type": "stream",
     "text": [
      "Twinkle, twinkle, little star,\n",
      " \t How I wonder what you are!\n",
      " \t \t Up above the world so high,\n",
      " \t \t Like a diamond in the sky.\n",
      " Twinkle, twinkle, little star,\n",
      " \t How I wonder what you are\n"
     ]
    }
   ],
   "source": [
    "# 1. Write a Python program to print the following string in a specific format (see the output).\n",
    "\n",
    "\n",
    "a = \"Twinkle, twinkle, little star,\";\n",
    "b = \"\\n \\t How I wonder what you are!\";\n",
    "c = \"\\n \\t \\t Up above the world so high,\";\n",
    "d = \"\\n \\t \\t Like a diamond in the sky.\";\n",
    "e = \"\\n Twinkle, twinkle, little star,\";\n",
    "f = \"\\n \\t How I wonder what you are\";\n",
    "print(a + b + c + d + e + f);"
   ]
  },
  {
   "cell_type": "code",
   "execution_count": 12,
   "id": "8843daf9",
   "metadata": {},
   "outputs": [
    {
     "name": "stdout",
     "output_type": "stream",
     "text": [
      "3.8.8 (default, Apr 13 2021, 15:08:03) [MSC v.1916 64 bit (AMD64)]\n"
     ]
    }
   ],
   "source": [
    "# 2. Write a Python program to get the Python version you are using\n",
    "\n",
    "\n",
    "import sys\n",
    "print(sys.version);"
   ]
  },
  {
   "cell_type": "code",
   "execution_count": 11,
   "id": "fabdc918",
   "metadata": {},
   "outputs": [
    {
     "data": {
      "text/plain": [
       "'Sun Oct 24 01:52:57 2021'"
      ]
     },
     "execution_count": 11,
     "metadata": {},
     "output_type": "execute_result"
    }
   ],
   "source": [
    "# 3. Write a Python program to display the current date and time.\n",
    "\n",
    "import time\n",
    "time.ctime()"
   ]
  },
  {
   "cell_type": "code",
   "execution_count": 6,
   "id": "b338209e",
   "metadata": {},
   "outputs": [
    {
     "name": "stdout",
     "output_type": "stream",
     "text": [
      "Enter radius of circle : 1.1\n",
      "Area of the circle is: 3.8013271108436504\n"
     ]
    }
   ],
   "source": [
    "# 4. Write a Python program which accepts the radius of a circle from the user and compute the area.\n",
    "\n",
    "\n",
    "from math import pi\n",
    "r = float(input(\"Enter radius of circle : \"));\n",
    "print (\"Area of the circle is: \" + str(pi * r**2));"
   ]
  },
  {
   "cell_type": "code",
   "execution_count": 13,
   "id": "cfaa9b1d",
   "metadata": {},
   "outputs": [
    {
     "name": "stdout",
     "output_type": "stream",
     "text": [
      "Enter your First Name Ali\n",
      "Enter your Last Name Saeed\n",
      "Saeed Ali\n"
     ]
    }
   ],
   "source": [
    "# 5. Write a Python program which accepts the user's first and last name and print them in reverse order with a space\n",
    "# between them.\n",
    "\n",
    "firstName = input(\"Enter your First Name \");\n",
    "lastName = input(\"Enter your Last Name \");\n",
    "print ( lastName + \" \" + firstName);"
   ]
  },
  {
   "cell_type": "code",
   "execution_count": 14,
   "id": "712a2359",
   "metadata": {},
   "outputs": [
    {
     "name": "stdout",
     "output_type": "stream",
     "text": [
      "Enter First Number: 50\n",
      "Enter Second Number: 15\n",
      "65\n"
     ]
    }
   ],
   "source": [
    "# 6. Write a python program which takes two inputs from user and print them addition\n",
    "\n",
    "x =  int(input(\"Enter First Number: \"));\n",
    "y = int(input(\"Enter Second Number: \"));\n",
    "z = x + y;\n",
    "print(z);"
   ]
  },
  {
   "cell_type": "code",
   "execution_count": 15,
   "id": "0ac4b6a6",
   "metadata": {},
   "outputs": [
    {
     "name": "stdout",
     "output_type": "stream",
     "text": [
      "Enter English Marks: 50\n",
      "Enter Islamiat Marks: 74\n",
      "Enter Urdu Marks: 68\n",
      "Enter Computer Marks: 95\n",
      "Enter Maths Marks: 77\n",
      "72.8 %\n",
      "Grade A\n"
     ]
    }
   ],
   "source": [
    "# 7. Write a program which takes 5 inputs from user for different subject’s marks, total it and generate mark sheet using \n",
    "# grades?\n",
    "\n",
    "eng = int(input(\"Enter English Marks: \"));\n",
    "isl = int(input(\"Enter Islamiat Marks: \"));\n",
    "urdu = int(input(\"Enter Urdu Marks: \"));\n",
    "comp = int(input(\"Enter Computer Marks: \"));\n",
    "maths = int(input(\"Enter Maths Marks: \"));\n",
    "totalMarks = 500;\n",
    "sumOfMarks = eng + isl + urdu + comp + maths;\n",
    "percentage = (sumOfMarks / totalMarks)*100;\n",
    "print(percentage , \"%\");\n",
    "percent = percentage;\n",
    "if percent <= 100 and percent >= 80:\n",
    "    print(\"Grade A+\");\n",
    "elif percent < 80 and percent >= 70:\n",
    "    print(\"Grade A\");\n",
    "elif percent < 70 and percent >= 60:\n",
    "    print(\"Grade B\");\n",
    "elif percent < 60 and percent >= 50:\n",
    "    print(\"Grade C\");\n",
    "elif percent < 50 and percent >= 40:\n",
    "    print(\"Grade D\");\n",
    "elif percent < 40 and percent >= 33:\n",
    "    print(\"Grade E\");\n",
    "elif percent < 33 and percent >= 0:\n",
    "    print(\"Fail\");\n",
    "else:\n",
    "    print(\"You have given appropriate %\");"
   ]
  },
  {
   "cell_type": "code",
   "execution_count": 16,
   "id": "85f32ec3",
   "metadata": {},
   "outputs": [
    {
     "name": "stdout",
     "output_type": "stream",
     "text": [
      "Enter a number: 7\n",
      "7 is Odd number\n"
     ]
    }
   ],
   "source": [
    "# 8. Write a program which take input from user and identify that the given number is even or odd?\n",
    "\n",
    "num1 = int(input(\"Enter a number: \"))  \n",
    "if (num1 % 2) == 0:  \n",
    "   print(\"{0} is Even number\".format(num1))  \n",
    "else:  \n",
    "   print(\"{0} is Odd number\".format(num1))  "
   ]
  },
  {
   "cell_type": "code",
   "execution_count": 17,
   "id": "39c5f5ee",
   "metadata": {},
   "outputs": [
    {
     "name": "stdout",
     "output_type": "stream",
     "text": [
      "5\n"
     ]
    }
   ],
   "source": [
    "# 9. Write a program which print the length of the list?\n",
    "\n",
    "list = [\"Ali\",905,0.5,\"hello\",True];\n",
    "print(len(list));"
   ]
  },
  {
   "cell_type": "code",
   "execution_count": 18,
   "id": "72bcf1bb",
   "metadata": {},
   "outputs": [
    {
     "name": "stdout",
     "output_type": "stream",
     "text": [
      "22\n"
     ]
    }
   ],
   "source": [
    "# 10.Write a Python program to sum all the numeric items in a list?\n",
    "\n",
    "numbers = [2,10,4,6];\n",
    "sum_numbers = 0;\n",
    "for i in numbers:\n",
    "    sum_numbers = sum_numbers + i;\n",
    "print(sum_numbers);"
   ]
  },
  {
   "cell_type": "code",
   "execution_count": 19,
   "id": "5d99604e",
   "metadata": {},
   "outputs": [
    {
     "name": "stdout",
     "output_type": "stream",
     "text": [
      "Largest Number is:  100\n"
     ]
    }
   ],
   "source": [
    "# 11.Write a Python program to get the largest number from a numeric list.\n",
    "\n",
    "myList = [41,85,100,7];\n",
    "print(\"Largest Number is: \", max(myList));"
   ]
  },
  {
   "cell_type": "code",
   "execution_count": 20,
   "id": "1b0bd332",
   "metadata": {},
   "outputs": [
    {
     "name": "stdout",
     "output_type": "stream",
     "text": [
      "[1, 1, 2, 3]\n"
     ]
    }
   ],
   "source": [
    "# 12. Take a list, say for example this one:\n",
    "# a = [1, 1, 2, 3, 5, 8, 13, 21, 34, 55, 89]\n",
    "# Write a program that prints out all the elements of the list that are less than 5.\n",
    "\n",
    "a = [1, 1, 2, 3, 5, 8, 13, 21, 34, 55, 89];\n",
    "lst = [];\n",
    "for i in a:\n",
    "    if i<5:\n",
    "        lst.append(i);\n",
    "print(lst);"
   ]
  },
  {
   "cell_type": "code",
   "execution_count": null,
   "id": "265174bb",
   "metadata": {},
   "outputs": [],
   "source": []
  }
 ],
 "metadata": {
  "kernelspec": {
   "display_name": "Python 3",
   "language": "python",
   "name": "python3"
  },
  "language_info": {
   "codemirror_mode": {
    "name": "ipython",
    "version": 3
   },
   "file_extension": ".py",
   "mimetype": "text/x-python",
   "name": "python",
   "nbconvert_exporter": "python",
   "pygments_lexer": "ipython3",
   "version": "3.8.8"
  }
 },
 "nbformat": 4,
 "nbformat_minor": 5
}
