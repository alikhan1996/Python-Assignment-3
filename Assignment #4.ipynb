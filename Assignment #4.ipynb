{
 "cells": [
  {
   "cell_type": "code",
   "execution_count": 1,
   "id": "b4359ee6",
   "metadata": {},
   "outputs": [
    {
     "name": "stdout",
     "output_type": "stream",
     "text": [
      "Enter first number: 85\n",
      "Enter second number: 60\n",
      "Enter Operator: +\n",
      "145\n"
     ]
    }
   ],
   "source": [
    "#1. Make a calculator using Python with addition , subtraction , multiplication ,division and power.\n",
    "\n",
    "num1 = int(input(\"Enter first number: \"));\n",
    "num2 = int(input(\"Enter second number: \"));\n",
    "oper = input(\"Enter Operator: \");\n",
    "if (oper == '+'):\n",
    "    print(num1 + num2);\n",
    "elif (oper == '-'):\n",
    "    print(num1 - num2);\n",
    "elif (oper == '*'):\n",
    "    print(num1 * num2);\n",
    "elif (oper == '/'):\n",
    "    print(num1 / num2);\n",
    "elif (oper == '**'):\n",
    "    print(num1 ** num2);\n",
    "else:\n",
    "    print(\"Enter Correct Operator\");"
   ]
  },
  {
   "cell_type": "code",
   "execution_count": 2,
   "id": "71e9894f",
   "metadata": {},
   "outputs": [
    {
     "name": "stdout",
     "output_type": "stream",
     "text": [
      "5\n",
      "10\n",
      "18\n"
     ]
    }
   ],
   "source": [
    "#2. Write a program to check if there is any numeric value in list using for loop.\n",
    "\n",
    "list = [\"code\",5,\"ali\",10,18] \n",
    "for x in list: \n",
    "    if type(x) == int: \n",
    "        print(x);"
   ]
  },
  {
   "cell_type": "code",
   "execution_count": 5,
   "id": "0a4118f4",
   "metadata": {},
   "outputs": [
    {
     "name": "stdout",
     "output_type": "stream",
     "text": [
      "{'name': 'Ali', 'lastName': 'Saeed', 'roll no': '5', 'Age': '25'}\n"
     ]
    }
   ],
   "source": [
    "#3. Write a Python script to add a key to a dictionary.\n",
    "\n",
    "a = {'name':\"Ali\" , 'lastName':\"Saeed\" , 'roll no':\"5\"};\n",
    "a.update({'Age':\"25\"});\n",
    "print(a);"
   ]
  },
  {
   "cell_type": "code",
   "execution_count": 9,
   "id": "2715ed2e",
   "metadata": {},
   "outputs": [
    {
     "name": "stdout",
     "output_type": "stream",
     "text": [
      "160\n"
     ]
    }
   ],
   "source": [
    "#4. Write a Python program to sum all the numeric items in a dictionary.\n",
    "\n",
    "z = {'a':20 , 'b':50 , 'c':30 , 'd':60};\n",
    "print(sum(z.values()));"
   ]
  },
  {
   "cell_type": "code",
   "execution_count": 10,
   "id": "f4756e0d",
   "metadata": {},
   "outputs": [
    {
     "name": "stdout",
     "output_type": "stream",
     "text": [
      "2\n",
      "3\n",
      "abc\n"
     ]
    }
   ],
   "source": [
    "#5. Write a program to identify duplicate values from list.\n",
    "\n",
    "lst=[1,3,4,5,\"abc\",2,2,7,3,\"abc\",\"xyz\"];\n",
    "lst1=[];\n",
    "for i in lst:\n",
    "    if i not in lst1:\n",
    "        lst1.append(i);\n",
    "    else:  \n",
    "        print(i);"
   ]
  },
  {
   "cell_type": "code",
   "execution_count": 11,
   "id": "edbcd15f",
   "metadata": {},
   "outputs": [
    {
     "name": "stdout",
     "output_type": "stream",
     "text": [
      "4 Key is present in the dictionary\n"
     ]
    }
   ],
   "source": [
    "#6. Write a Python script to check if a given key already exists in a dictionary\n",
    "\n",
    "d = {1:'ali', 2:'saeed', 3: '30' , 4: 'hello'};\n",
    "def key(x):\n",
    "    if x in d:  \n",
    "        print(x,'Key is present in the dictionary');\n",
    "    else:\n",
    "        print(x,'Key is not present in the dictionary');\n",
    "key(4);"
   ]
  },
  {
   "cell_type": "code",
   "execution_count": null,
   "id": "6b21eed7",
   "metadata": {},
   "outputs": [],
   "source": []
  },
  {
   "cell_type": "code",
   "execution_count": null,
   "id": "796bedc9",
   "metadata": {},
   "outputs": [],
   "source": []
  }
 ],
 "metadata": {
  "kernelspec": {
   "display_name": "Python 3",
   "language": "python",
   "name": "python3"
  },
  "language_info": {
   "codemirror_mode": {
    "name": "ipython",
    "version": 3
   },
   "file_extension": ".py",
   "mimetype": "text/x-python",
   "name": "python",
   "nbconvert_exporter": "python",
   "pygments_lexer": "ipython3",
   "version": "3.8.8"
  }
 },
 "nbformat": 4,
 "nbformat_minor": 5
}
